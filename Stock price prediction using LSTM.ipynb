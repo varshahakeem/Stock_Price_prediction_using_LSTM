{
 "cells": [
  {
   "cell_type": "code",
   "execution_count": 12,
   "id": "04af0965",
   "metadata": {},
   "outputs": [
    {
     "name": "stdout",
     "output_type": "stream",
     "text": [
      "Defaulting to user installation because normal site-packages is not writeable\n",
      "Requirement already satisfied: pandas_datareader in c:\\users\\anand\\appdata\\roaming\\python\\python39\\site-packages (0.10.0)\n",
      "Requirement already satisfied: pandas>=0.23 in c:\\programdata\\anaconda3\\lib\\site-packages (from pandas_datareader) (1.4.4)\n",
      "Requirement already satisfied: requests>=2.19.0 in c:\\programdata\\anaconda3\\lib\\site-packages (from pandas_datareader) (2.28.1)\n",
      "Requirement already satisfied: lxml in c:\\programdata\\anaconda3\\lib\\site-packages (from pandas_datareader) (4.9.1)\n",
      "Requirement already satisfied: pytz>=2020.1 in c:\\programdata\\anaconda3\\lib\\site-packages (from pandas>=0.23->pandas_datareader) (2022.1)\n",
      "Requirement already satisfied: numpy>=1.18.5 in c:\\programdata\\anaconda3\\lib\\site-packages (from pandas>=0.23->pandas_datareader) (1.21.5)\n",
      "Requirement already satisfied: python-dateutil>=2.8.1 in c:\\programdata\\anaconda3\\lib\\site-packages (from pandas>=0.23->pandas_datareader) (2.8.2)\n",
      "Requirement already satisfied: idna<4,>=2.5 in c:\\programdata\\anaconda3\\lib\\site-packages (from requests>=2.19.0->pandas_datareader) (3.3)\n",
      "Requirement already satisfied: charset-normalizer<3,>=2 in c:\\programdata\\anaconda3\\lib\\site-packages (from requests>=2.19.0->pandas_datareader) (2.0.4)\n",
      "Requirement already satisfied: certifi>=2017.4.17 in c:\\programdata\\anaconda3\\lib\\site-packages (from requests>=2.19.0->pandas_datareader) (2022.9.14)\n",
      "Requirement already satisfied: urllib3<1.27,>=1.21.1 in c:\\programdata\\anaconda3\\lib\\site-packages (from requests>=2.19.0->pandas_datareader) (1.26.11)\n",
      "Requirement already satisfied: six>=1.5 in c:\\programdata\\anaconda3\\lib\\site-packages (from python-dateutil>=2.8.1->pandas>=0.23->pandas_datareader) (1.16.0)\n",
      "Note: you may need to restart the kernel to use updated packages.\n"
     ]
    }
   ],
   "source": [
    "pip install pandas_datareader"
   ]
  },
  {
   "cell_type": "code",
   "execution_count": 13,
   "id": "61a463c1",
   "metadata": {},
   "outputs": [],
   "source": [
    "import pandas_datareader as pdr"
   ]
  },
  {
   "cell_type": "code",
   "execution_count": 14,
   "id": "32f9de4d",
   "metadata": {},
   "outputs": [],
   "source": [
    "key=\"6198db3f4cbf60cd8a964dbd7b9f14e0ceb86146\""
   ]
  },
  {
   "cell_type": "code",
   "execution_count": 15,
   "id": "67806da6",
   "metadata": {},
   "outputs": [
    {
     "name": "stderr",
     "output_type": "stream",
     "text": [
      "C:\\Users\\anand\\AppData\\Roaming\\Python\\Python39\\site-packages\\pandas_datareader\\tiingo.py:234: FutureWarning: In a future version of pandas all arguments of concat except for the argument 'objs' will be keyword-only.\n",
      "  return pd.concat(dfs, self._concat_axis)\n"
     ]
    }
   ],
   "source": [
    "df=pdr.get_data_tiingo('AAPL', api_key=key)"
   ]
  },
  {
   "cell_type": "code",
   "execution_count": 16,
   "id": "467b6320",
   "metadata": {},
   "outputs": [],
   "source": [
    "df.to_csv('AAPL.csv')"
   ]
  },
  {
   "cell_type": "code",
   "execution_count": 17,
   "id": "261437fa",
   "metadata": {},
   "outputs": [],
   "source": [
    "import pandas as pd"
   ]
  },
  {
   "cell_type": "code",
   "execution_count": 18,
   "id": "1112e8f6",
   "metadata": {},
   "outputs": [],
   "source": [
    "df=pd.read_csv('AAPL.csv')"
   ]
  },
  {
   "cell_type": "code",
   "execution_count": 19,
   "id": "e95cae32",
   "metadata": {},
   "outputs": [
    {
     "data": {
      "text/html": [
       "<div>\n",
       "<style scoped>\n",
       "    .dataframe tbody tr th:only-of-type {\n",
       "        vertical-align: middle;\n",
       "    }\n",
       "\n",
       "    .dataframe tbody tr th {\n",
       "        vertical-align: top;\n",
       "    }\n",
       "\n",
       "    .dataframe thead th {\n",
       "        text-align: right;\n",
       "    }\n",
       "</style>\n",
       "<table border=\"1\" class=\"dataframe\">\n",
       "  <thead>\n",
       "    <tr style=\"text-align: right;\">\n",
       "      <th></th>\n",
       "      <th>symbol</th>\n",
       "      <th>date</th>\n",
       "      <th>close</th>\n",
       "      <th>high</th>\n",
       "      <th>low</th>\n",
       "      <th>open</th>\n",
       "      <th>volume</th>\n",
       "      <th>adjClose</th>\n",
       "      <th>adjHigh</th>\n",
       "      <th>adjLow</th>\n",
       "      <th>adjOpen</th>\n",
       "      <th>adjVolume</th>\n",
       "      <th>divCash</th>\n",
       "      <th>splitFactor</th>\n",
       "    </tr>\n",
       "  </thead>\n",
       "  <tbody>\n",
       "    <tr>\n",
       "      <th>0</th>\n",
       "      <td>AAPL</td>\n",
       "      <td>2018-01-30 00:00:00+00:00</td>\n",
       "      <td>166.97</td>\n",
       "      <td>167.37</td>\n",
       "      <td>164.70</td>\n",
       "      <td>165.53</td>\n",
       "      <td>45137026</td>\n",
       "      <td>39.640986</td>\n",
       "      <td>39.735952</td>\n",
       "      <td>39.102057</td>\n",
       "      <td>39.299110</td>\n",
       "      <td>180548104</td>\n",
       "      <td>0.0</td>\n",
       "      <td>1.0</td>\n",
       "    </tr>\n",
       "    <tr>\n",
       "      <th>1</th>\n",
       "      <td>AAPL</td>\n",
       "      <td>2018-01-31 00:00:00+00:00</td>\n",
       "      <td>167.43</td>\n",
       "      <td>168.44</td>\n",
       "      <td>166.50</td>\n",
       "      <td>166.87</td>\n",
       "      <td>30984099</td>\n",
       "      <td>39.750196</td>\n",
       "      <td>39.989984</td>\n",
       "      <td>39.529402</td>\n",
       "      <td>39.617245</td>\n",
       "      <td>123936396</td>\n",
       "      <td>0.0</td>\n",
       "      <td>1.0</td>\n",
       "    </tr>\n",
       "    <tr>\n",
       "      <th>2</th>\n",
       "      <td>AAPL</td>\n",
       "      <td>2018-02-01 00:00:00+00:00</td>\n",
       "      <td>167.78</td>\n",
       "      <td>168.62</td>\n",
       "      <td>166.76</td>\n",
       "      <td>167.17</td>\n",
       "      <td>38099665</td>\n",
       "      <td>39.833291</td>\n",
       "      <td>40.032719</td>\n",
       "      <td>39.591129</td>\n",
       "      <td>39.688469</td>\n",
       "      <td>152398660</td>\n",
       "      <td>0.0</td>\n",
       "      <td>1.0</td>\n",
       "    </tr>\n",
       "    <tr>\n",
       "      <th>3</th>\n",
       "      <td>AAPL</td>\n",
       "      <td>2018-02-02 00:00:00+00:00</td>\n",
       "      <td>160.50</td>\n",
       "      <td>166.80</td>\n",
       "      <td>160.10</td>\n",
       "      <td>166.00</td>\n",
       "      <td>85436075</td>\n",
       "      <td>38.104919</td>\n",
       "      <td>39.600626</td>\n",
       "      <td>38.009953</td>\n",
       "      <td>39.410695</td>\n",
       "      <td>341744300</td>\n",
       "      <td>0.0</td>\n",
       "      <td>1.0</td>\n",
       "    </tr>\n",
       "    <tr>\n",
       "      <th>4</th>\n",
       "      <td>AAPL</td>\n",
       "      <td>2018-02-05 00:00:00+00:00</td>\n",
       "      <td>156.49</td>\n",
       "      <td>163.88</td>\n",
       "      <td>156.00</td>\n",
       "      <td>159.10</td>\n",
       "      <td>66090446</td>\n",
       "      <td>37.152889</td>\n",
       "      <td>38.907377</td>\n",
       "      <td>37.036556</td>\n",
       "      <td>37.772539</td>\n",
       "      <td>264361784</td>\n",
       "      <td>0.0</td>\n",
       "      <td>1.0</td>\n",
       "    </tr>\n",
       "  </tbody>\n",
       "</table>\n",
       "</div>"
      ],
      "text/plain": [
       "  symbol                       date   close    high     low    open    volume  \\\n",
       "0   AAPL  2018-01-30 00:00:00+00:00  166.97  167.37  164.70  165.53  45137026   \n",
       "1   AAPL  2018-01-31 00:00:00+00:00  167.43  168.44  166.50  166.87  30984099   \n",
       "2   AAPL  2018-02-01 00:00:00+00:00  167.78  168.62  166.76  167.17  38099665   \n",
       "3   AAPL  2018-02-02 00:00:00+00:00  160.50  166.80  160.10  166.00  85436075   \n",
       "4   AAPL  2018-02-05 00:00:00+00:00  156.49  163.88  156.00  159.10  66090446   \n",
       "\n",
       "    adjClose    adjHigh     adjLow    adjOpen  adjVolume  divCash  splitFactor  \n",
       "0  39.640986  39.735952  39.102057  39.299110  180548104      0.0          1.0  \n",
       "1  39.750196  39.989984  39.529402  39.617245  123936396      0.0          1.0  \n",
       "2  39.833291  40.032719  39.591129  39.688469  152398660      0.0          1.0  \n",
       "3  38.104919  39.600626  38.009953  39.410695  341744300      0.0          1.0  \n",
       "4  37.152889  38.907377  37.036556  37.772539  264361784      0.0          1.0  "
      ]
     },
     "execution_count": 19,
     "metadata": {},
     "output_type": "execute_result"
    }
   ],
   "source": [
    "df.head()"
   ]
  },
  {
   "cell_type": "code",
   "execution_count": 20,
   "id": "eaea7f52",
   "metadata": {},
   "outputs": [],
   "source": [
    "df1=df.reset_index()['close']"
   ]
  },
  {
   "cell_type": "code",
   "execution_count": 21,
   "id": "9e1537df",
   "metadata": {},
   "outputs": [
    {
     "data": {
      "text/plain": [
       "(1258,)"
      ]
     },
     "execution_count": 21,
     "metadata": {},
     "output_type": "execute_result"
    }
   ],
   "source": [
    "df1.shape"
   ]
  },
  {
   "cell_type": "code",
   "execution_count": 22,
   "id": "313da4a5",
   "metadata": {},
   "outputs": [
    {
     "data": {
      "text/plain": [
       "0       166.97\n",
       "1       167.43\n",
       "2       167.78\n",
       "3       160.50\n",
       "4       156.49\n",
       "         ...  \n",
       "1253    141.11\n",
       "1254    142.53\n",
       "1255    141.86\n",
       "1256    143.96\n",
       "1257    145.93\n",
       "Name: close, Length: 1258, dtype: float64"
      ]
     },
     "execution_count": 22,
     "metadata": {},
     "output_type": "execute_result"
    }
   ],
   "source": [
    "df1"
   ]
  },
  {
   "cell_type": "code",
   "execution_count": 23,
   "id": "a7948713",
   "metadata": {},
   "outputs": [
    {
     "data": {
      "text/plain": [
       "[<matplotlib.lines.Line2D at 0x20e5fd46430>]"
      ]
     },
     "execution_count": 23,
     "metadata": {},
     "output_type": "execute_result"
    },
    {
     "data": {
      "image/png": "[encoded data removed]",
      "text/plain": [
       "<Figure size 640x480 with 1 Axes>"
      ]
     },
     "metadata": {},
     "output_type": "display_data"
    }
   ],
   "source": [
    "import matplotlib.pyplot as plt\n",
    "plt.plot(df1)"
   ]
  },
  {
   "cell_type": "code",
   "execution_count": 24,
   "id": "1e88e0e0",
   "metadata": {},
   "outputs": [],
   "source": [
    "### LSTM are very sensitive to the scale of data. So we apply MinMax scaler"
   ]
  },
  {
   "cell_type": "code",
   "execution_count": 25,
   "id": "b64e678c",
   "metadata": {},
   "outputs": [],
   "source": [
    "import numpy as np"
   ]
  },
  {
   "cell_type": "code",
   "execution_count": 26,
   "id": "a0f6a1b9",
   "metadata": {},
   "outputs": [],
   "source": [
    "from sklearn.preprocessing import MinMaxScaler\n",
    "scaler=MinMaxScaler(feature_range=(0,1))\n",
    "df1=scaler.fit_transform(np.array(df1).reshape(-1,1))"
   ]
  },
  {
   "cell_type": "code",
   "execution_count": 27,
   "id": "caa3ce31",
   "metadata": {},
   "outputs": [
    {
     "data": {
      "text/plain": [
       "array([[0.15060739],\n",
       "       [0.15175955],\n",
       "       [0.15263619],\n",
       "       ...,\n",
       "       [0.08771446],\n",
       "       [0.09297433],\n",
       "       [0.09790858]])"
      ]
     },
     "execution_count": 27,
     "metadata": {},
     "output_type": "execute_result"
    }
   ],
   "source": [
    "df1"
   ]
  },
  {
   "cell_type": "code",
   "execution_count": 28,
   "id": "1e654b50",
   "metadata": {},
   "outputs": [],
   "source": [
    "##splitting dataset into train and test split\n",
    "training_size=int(len(df1)*0.65)\n",
    "test_size=len(df1)-training_size\n",
    "train_data,test_data=df1[0:training_size,:],df1[training_size:len(df1):1]"
   ]
  },
  {
   "cell_type": "code",
   "execution_count": 29,
   "id": "cc1eac66",
   "metadata": {},
   "outputs": [
    {
     "name": "stdout",
     "output_type": "stream",
     "text": [
      "(817, 1)\n",
      "(441, 1)\n"
     ]
    },
    {
     "data": {
      "text/plain": [
       "(None, None)"
      ]
     },
     "execution_count": 29,
     "metadata": {},
     "output_type": "execute_result"
    }
   ],
   "source": [
    "print(train_data.shape),print(test_data.shape)"
   ]
  },
  {
   "cell_type": "code",
   "execution_count": 30,
   "id": "bb2eaeb9",
   "metadata": {},
   "outputs": [],
   "source": [
    "import numpy\n",
    "#convert an array of values into a dataset matrix\n",
    "def create_dataset(dataset, time_step=1):\n",
    "    dataX, dataY=[], []\n",
    "    for i in range(len(dataset)-time_step-1):\n",
    "        a=dataset[i:(i+time_step),0]\n",
    "        dataX.append(a)\n",
    "        dataY.append(dataset[i+time_step,0])\n",
    "    return numpy.array(dataX), numpy.array(dataY)"
   ]
  },
  {
   "cell_type": "code",
   "execution_count": 31,
   "id": "247c445c",
   "metadata": {},
   "outputs": [],
   "source": [
    "#reshape into X=t,t+1,t+2,t+3,t+4\n",
    "time_step=100\n",
    "X_train,y_train=create_dataset(train_data,time_step)\n",
    "X_test, y_test=create_dataset(test_data, time_step)"
   ]
  },
  {
   "cell_type": "code",
   "execution_count": 32,
   "id": "4490f7da",
   "metadata": {},
   "outputs": [
    {
     "name": "stdout",
     "output_type": "stream",
     "text": [
      "(716, 100)\n",
      "(716,)\n"
     ]
    },
    {
     "data": {
      "text/plain": [
       "(None, None)"
      ]
     },
     "execution_count": 32,
     "metadata": {},
     "output_type": "execute_result"
    }
   ],
   "source": [
    "print(X_train.shape),print(y_train.shape)"
   ]
  },
  {
   "cell_type": "code",
   "execution_count": 33,
   "id": "a541de6c",
   "metadata": {},
   "outputs": [
    {
     "name": "stdout",
     "output_type": "stream",
     "text": [
      "(340, 100)\n",
      "(340,)\n"
     ]
    },
    {
     "data": {
      "text/plain": [
       "(None, None)"
      ]
     },
     "execution_count": 33,
     "metadata": {},
     "output_type": "execute_result"
    }
   ],
   "source": [
    "print(X_test.shape),print(y_test.shape)"
   ]
  },
  {
   "cell_type": "code",
   "execution_count": 34,
   "id": "66cf344b",
   "metadata": {},
   "outputs": [],
   "source": [
    "#reshape input to be [samples,time_steps, features] which is required for LSTM\n",
    "X_train=X_train.reshape(X_train.shape[0],X_train.shape[1],1)\n",
    "X_test=X_test.reshape(X_test.shape[0],X_test.shape[1],1)"
   ]
  },
  {
   "cell_type": "code",
   "execution_count": 35,
   "id": "c317359b",
   "metadata": {},
   "outputs": [],
   "source": [
    "###Create LSTM model\n",
    "from tensorflow.keras.models import Sequential\n",
    "from tensorflow.keras.layers import Dense\n",
    "from tensorflow.keras.layers import LSTM"
   ]
  },
  {
   "cell_type": "code",
   "execution_count": 36,
   "id": "09bf32bb",
   "metadata": {},
   "outputs": [],
   "source": [
    "model=Sequential()\n",
    "model.add(LSTM(50,return_sequences=True,input_shape=(100,1)))\n",
    "model.add(LSTM(50,return_sequences=True))\n",
    "model.add(LSTM(50))\n",
    "model.add(Dense(1))\n",
    "model.compile(loss='mean_squared_error',optimizer='adam')"
   ]
  },
  {
   "cell_type": "code",
   "execution_count": 37,
   "id": "a97f0d38",
   "metadata": {},
   "outputs": [
    {
     "name": "stdout",
     "output_type": "stream",
     "text": [
      "Model: \"sequential\"\n",
      "_________________________________________________________________\n",
      " Layer (type)                Output Shape              Param #   \n",
      "=================================================================\n",
      " lstm (LSTM)                 (None, 100, 50)           10400     \n",
      "                                                                 \n",
      " lstm_1 (LSTM)               (None, 100, 50)           20200     \n",
      "                                                                 \n",
      " lstm_2 (LSTM)               (None, 50)                20200     \n",
      "                                                                 \n",
      " dense (Dense)               (None, 1)                 51        \n",
      "                                                                 \n",
      "=================================================================\n",
      "Total params: 50,851\n",
      "Trainable params: 50,851\n",
      "Non-trainable params: 0\n",
      "_________________________________________________________________\n"
     ]
    }
   ],
   "source": [
    "model.summary()"
   ]
  },
  {
   "cell_type": "code",
   "execution_count": 38,
   "id": "9a8a3d33",
   "metadata": {},
   "outputs": [
    {
     "name": "stdout",
     "output_type": "stream",
     "text": [
      "Epoch 1/100\n",
      "12/12 [==============================] - 16s 334ms/step - loss: 0.0385 - val_loss: 6.4523e-04\n",
      "Epoch 2/100\n",
      "12/12 [==============================] - 2s 172ms/step - loss: 0.0151 - val_loss: 0.0056\n",
      "Epoch 3/100\n",
      "12/12 [==============================] - 2s 173ms/step - loss: 0.0104 - val_loss: 7.2714e-04\n",
      "Epoch 4/100\n",
      "12/12 [==============================] - 2s 168ms/step - loss: 0.0104 - val_loss: 0.0035\n",
      "Epoch 5/100\n",
      "12/12 [==============================] - 2s 171ms/step - loss: 0.0099 - val_loss: 8.8421e-04\n",
      "Epoch 6/100\n",
      "12/12 [==============================] - 2s 166ms/step - loss: 0.0075 - val_loss: 3.4809e-04\n",
      "Epoch 7/100\n",
      "12/12 [==============================] - 2s 152ms/step - loss: 0.0071 - val_loss: 6.9222e-04\n",
      "Epoch 8/100\n",
      "12/12 [==============================] - 2s 164ms/step - loss: 0.0074 - val_loss: 3.2195e-04\n",
      "Epoch 9/100\n",
      "12/12 [==============================] - 2s 162ms/step - loss: 0.0060 - val_loss: 3.1537e-04\n",
      "Epoch 10/100\n",
      "12/12 [==============================] - 2s 162ms/step - loss: 0.0052 - val_loss: 3.6522e-04\n",
      "Epoch 11/100\n",
      "12/12 [==============================] - 2s 168ms/step - loss: 0.0056 - val_loss: 5.8251e-04\n",
      "Epoch 12/100\n",
      "12/12 [==============================] - 2s 169ms/step - loss: 0.0042 - val_loss: 3.8310e-04\n",
      "Epoch 13/100\n",
      "12/12 [==============================] - 2s 172ms/step - loss: 0.0041 - val_loss: 4.1892e-04\n",
      "Epoch 14/100\n",
      "12/12 [==============================] - 2s 167ms/step - loss: 0.0040 - val_loss: 3.7714e-04\n",
      "Epoch 15/100\n",
      "12/12 [==============================] - 2s 155ms/step - loss: 0.0036 - val_loss: 3.4905e-04\n",
      "Epoch 16/100\n",
      "12/12 [==============================] - 2s 160ms/step - loss: 0.0035 - val_loss: 3.3412e-04\n",
      "Epoch 17/100\n",
      "12/12 [==============================] - 2s 152ms/step - loss: 0.0032 - val_loss: 3.3373e-04\n",
      "Epoch 18/100\n",
      "12/12 [==============================] - 2s 160ms/step - loss: 0.0030 - val_loss: 4.8773e-04\n",
      "Epoch 19/100\n",
      "12/12 [==============================] - 2s 178ms/step - loss: 0.0032 - val_loss: 2.9668e-04\n",
      "Epoch 20/100\n",
      "12/12 [==============================] - 2s 168ms/step - loss: 0.0024 - val_loss: 3.2026e-04\n",
      "Epoch 21/100\n",
      "12/12 [==============================] - 2s 171ms/step - loss: 0.0021 - val_loss: 3.8902e-04\n",
      "Epoch 22/100\n",
      "12/12 [==============================] - 2s 173ms/step - loss: 0.0024 - val_loss: 2.5429e-04\n",
      "Epoch 23/100\n",
      "12/12 [==============================] - 2s 167ms/step - loss: 0.0025 - val_loss: 3.0882e-04\n",
      "Epoch 24/100\n",
      "12/12 [==============================] - 2s 169ms/step - loss: 0.0023 - val_loss: 2.5427e-04\n",
      "Epoch 25/100\n",
      "12/12 [==============================] - 2s 158ms/step - loss: 0.0023 - val_loss: 2.6517e-04\n",
      "Epoch 26/100\n",
      "12/12 [==============================] - 2s 164ms/step - loss: 0.0024 - val_loss: 2.7040e-04\n",
      "Epoch 27/100\n",
      "12/12 [==============================] - 2s 172ms/step - loss: 0.0029 - val_loss: 3.1984e-04\n",
      "Epoch 28/100\n",
      "12/12 [==============================] - 2s 169ms/step - loss: 0.0022 - val_loss: 3.6899e-04\n",
      "Epoch 29/100\n",
      "12/12 [==============================] - 2s 173ms/step - loss: 0.0020 - val_loss: 2.5830e-04\n",
      "Epoch 30/100\n",
      "12/12 [==============================] - 2s 172ms/step - loss: 0.0022 - val_loss: 4.1862e-04\n",
      "Epoch 31/100\n",
      "12/12 [==============================] - 2s 156ms/step - loss: 0.0020 - val_loss: 2.9125e-04\n",
      "Epoch 32/100\n",
      "12/12 [==============================] - 2s 171ms/step - loss: 0.0021 - val_loss: 2.7618e-04\n",
      "Epoch 33/100\n",
      "12/12 [==============================] - 2s 177ms/step - loss: 0.0019 - val_loss: 2.6737e-04\n",
      "Epoch 34/100\n",
      "12/12 [==============================] - 2s 168ms/step - loss: 0.0026 - val_loss: 5.4965e-04\n",
      "Epoch 35/100\n",
      "12/12 [==============================] - 2s 173ms/step - loss: 0.0022 - val_loss: 4.0536e-04\n",
      "Epoch 36/100\n",
      "12/12 [==============================] - 2s 178ms/step - loss: 0.0017 - val_loss: 2.6772e-04\n",
      "Epoch 37/100\n",
      "12/12 [==============================] - 2s 185ms/step - loss: 0.0017 - val_loss: 2.9249e-04\n",
      "Epoch 38/100\n",
      "12/12 [==============================] - 2s 178ms/step - loss: 0.0017 - val_loss: 2.5843e-04\n",
      "Epoch 39/100\n",
      "12/12 [==============================] - 2s 176ms/step - loss: 0.0017 - val_loss: 3.8674e-04\n",
      "Epoch 40/100\n",
      "12/12 [==============================] - 2s 162ms/step - loss: 0.0018 - val_loss: 6.4033e-04\n",
      "Epoch 41/100\n",
      "12/12 [==============================] - 2s 161ms/step - loss: 0.0021 - val_loss: 3.0526e-04\n",
      "Epoch 42/100\n",
      "12/12 [==============================] - 2s 163ms/step - loss: 0.0020 - val_loss: 3.3769e-04\n",
      "Epoch 43/100\n",
      "12/12 [==============================] - 2s 172ms/step - loss: 0.0017 - val_loss: 3.1341e-04\n",
      "Epoch 44/100\n",
      "12/12 [==============================] - 2s 172ms/step - loss: 0.0017 - val_loss: 4.0739e-04\n",
      "Epoch 45/100\n",
      "12/12 [==============================] - 2s 180ms/step - loss: 0.0024 - val_loss: 4.1510e-04\n",
      "Epoch 46/100\n",
      "12/12 [==============================] - 2s 174ms/step - loss: 0.0018 - val_loss: 2.8908e-04\n",
      "Epoch 47/100\n",
      "12/12 [==============================] - 2s 165ms/step - loss: 0.0020 - val_loss: 3.8117e-04\n",
      "Epoch 48/100\n",
      "12/12 [==============================] - 2s 162ms/step - loss: 0.0017 - val_loss: 2.7408e-04\n",
      "Epoch 49/100\n",
      "12/12 [==============================] - 2s 162ms/step - loss: 0.0021 - val_loss: 3.3892e-04\n",
      "Epoch 50/100\n",
      "12/12 [==============================] - 2s 164ms/step - loss: 0.0043 - val_loss: 2.6307e-04\n",
      "Epoch 51/100\n",
      "12/12 [==============================] - 2s 172ms/step - loss: 0.0060 - val_loss: 0.0017\n",
      "Epoch 52/100\n",
      "12/12 [==============================] - 2s 173ms/step - loss: 0.0046 - val_loss: 2.5122e-04\n",
      "Epoch 53/100\n",
      "12/12 [==============================] - 2s 176ms/step - loss: 0.0051 - val_loss: 0.0011\n",
      "Epoch 54/100\n",
      "12/12 [==============================] - 2s 166ms/step - loss: 0.0035 - val_loss: 4.5303e-04\n",
      "Epoch 55/100\n",
      "12/12 [==============================] - 2s 160ms/step - loss: 0.0030 - val_loss: 4.1642e-04\n",
      "Epoch 56/100\n",
      "12/12 [==============================] - 2s 160ms/step - loss: 0.0032 - val_loss: 3.2871e-04\n",
      "Epoch 57/100\n",
      "12/12 [==============================] - 2s 163ms/step - loss: 0.0023 - val_loss: 2.5426e-04\n",
      "Epoch 58/100\n",
      "12/12 [==============================] - 2s 176ms/step - loss: 0.0023 - val_loss: 2.8113e-04\n",
      "Epoch 59/100\n",
      "12/12 [==============================] - 2s 177ms/step - loss: 0.0025 - val_loss: 2.9050e-04\n",
      "Epoch 60/100\n",
      "12/12 [==============================] - 2s 173ms/step - loss: 0.0022 - val_loss: 4.9563e-04\n",
      "Epoch 61/100\n",
      "12/12 [==============================] - 2s 182ms/step - loss: 0.0022 - val_loss: 2.6826e-04\n",
      "Epoch 62/100\n",
      "12/12 [==============================] - 2s 174ms/step - loss: 0.0026 - val_loss: 2.4016e-04\n",
      "Epoch 63/100\n",
      "12/12 [==============================] - 2s 161ms/step - loss: 0.0018 - val_loss: 2.4551e-04\n",
      "Epoch 64/100\n",
      "12/12 [==============================] - 2s 164ms/step - loss: 0.0024 - val_loss: 5.7402e-04\n",
      "Epoch 65/100\n",
      "12/12 [==============================] - 2s 158ms/step - loss: 0.0036 - val_loss: 3.0620e-04\n",
      "Epoch 66/100\n",
      "12/12 [==============================] - 2s 164ms/step - loss: 0.0030 - val_loss: 6.4521e-04\n",
      "Epoch 67/100\n",
      "12/12 [==============================] - 2s 172ms/step - loss: 0.0020 - val_loss: 2.6167e-04\n",
      "Epoch 68/100\n",
      "12/12 [==============================] - 2s 174ms/step - loss: 0.0020 - val_loss: 2.4342e-04\n",
      "Epoch 69/100\n",
      "12/12 [==============================] - 2s 172ms/step - loss: 0.0021 - val_loss: 2.5104e-04\n",
      "Epoch 70/100\n",
      "12/12 [==============================] - 2s 170ms/step - loss: 0.0024 - val_loss: 3.2024e-04\n",
      "Epoch 71/100\n",
      "12/12 [==============================] - 2s 163ms/step - loss: 0.0017 - val_loss: 3.2270e-04\n",
      "Epoch 72/100\n",
      "12/12 [==============================] - 2s 165ms/step - loss: 0.0016 - val_loss: 2.4743e-04\n",
      "Epoch 73/100\n",
      "12/12 [==============================] - 2s 160ms/step - loss: 0.0015 - val_loss: 3.1705e-04\n",
      "Epoch 74/100\n",
      "12/12 [==============================] - 2s 169ms/step - loss: 0.0017 - val_loss: 2.8333e-04\n",
      "Epoch 75/100\n",
      "12/12 [==============================] - 2s 170ms/step - loss: 0.0015 - val_loss: 2.6520e-04\n",
      "Epoch 76/100\n",
      "12/12 [==============================] - 2s 174ms/step - loss: 0.0019 - val_loss: 2.5515e-04\n",
      "Epoch 77/100\n",
      "12/12 [==============================] - 2s 178ms/step - loss: 0.0021 - val_loss: 2.3403e-04\n",
      "Epoch 78/100\n"
     ]
    },
    {
     "name": "stdout",
     "output_type": "stream",
     "text": [
      "12/12 [==============================] - 2s 169ms/step - loss: 0.0016 - val_loss: 2.6157e-04\n",
      "Epoch 79/100\n",
      "12/12 [==============================] - 2s 172ms/step - loss: 0.0019 - val_loss: 7.0682e-04\n",
      "Epoch 80/100\n",
      "12/12 [==============================] - 2s 169ms/step - loss: 0.0041 - val_loss: 4.3112e-04\n",
      "Epoch 81/100\n",
      "12/12 [==============================] - 2s 167ms/step - loss: 0.0019 - val_loss: 2.6910e-04\n",
      "Epoch 82/100\n",
      "12/12 [==============================] - 2s 173ms/step - loss: 0.0023 - val_loss: 6.3733e-04\n",
      "Epoch 83/100\n",
      "12/12 [==============================] - 2s 175ms/step - loss: 0.0019 - val_loss: 3.8508e-04\n",
      "Epoch 84/100\n",
      "12/12 [==============================] - 2s 173ms/step - loss: 0.0018 - val_loss: 2.7453e-04\n",
      "Epoch 85/100\n",
      "12/12 [==============================] - 2s 174ms/step - loss: 0.0016 - val_loss: 2.4208e-04\n",
      "Epoch 86/100\n",
      "12/12 [==============================] - 2s 167ms/step - loss: 0.0015 - val_loss: 2.8476e-04\n",
      "Epoch 87/100\n",
      "12/12 [==============================] - 2s 164ms/step - loss: 0.0018 - val_loss: 2.3603e-04\n",
      "Epoch 88/100\n",
      "12/12 [==============================] - 2s 165ms/step - loss: 0.0014 - val_loss: 2.8643e-04\n",
      "Epoch 89/100\n",
      "12/12 [==============================] - 2s 166ms/step - loss: 0.0016 - val_loss: 2.3385e-04\n",
      "Epoch 90/100\n",
      "12/12 [==============================] - 2s 180ms/step - loss: 0.0013 - val_loss: 2.3853e-04\n",
      "Epoch 91/100\n",
      "12/12 [==============================] - 2s 180ms/step - loss: 0.0014 - val_loss: 2.3844e-04\n",
      "Epoch 92/100\n",
      "12/12 [==============================] - 2s 176ms/step - loss: 0.0013 - val_loss: 2.5775e-04\n",
      "Epoch 93/100\n",
      "12/12 [==============================] - 2s 174ms/step - loss: 0.0011 - val_loss: 2.6140e-04\n",
      "Epoch 94/100\n",
      "12/12 [==============================] - 2s 174ms/step - loss: 0.0026 - val_loss: 0.0011\n",
      "Epoch 95/100\n",
      "12/12 [==============================] - 2s 170ms/step - loss: 0.0018 - val_loss: 2.5977e-04\n",
      "Epoch 96/100\n",
      "12/12 [==============================] - 2s 167ms/step - loss: 0.0014 - val_loss: 2.4727e-04\n",
      "Epoch 97/100\n",
      "12/12 [==============================] - 2s 167ms/step - loss: 0.0014 - val_loss: 2.7070e-04\n",
      "Epoch 98/100\n",
      "12/12 [==============================] - 2s 173ms/step - loss: 0.0011 - val_loss: 2.4516e-04\n",
      "Epoch 99/100\n",
      "12/12 [==============================] - 2s 171ms/step - loss: 0.0014 - val_loss: 3.1353e-04\n",
      "Epoch 100/100\n",
      "12/12 [==============================] - 2s 177ms/step - loss: 0.0013 - val_loss: 3.0248e-04\n"
     ]
    },
    {
     "data": {
      "text/plain": [
       "<keras.callbacks.History at 0x20e697f2dc0>"
      ]
     },
     "execution_count": 38,
     "metadata": {},
     "output_type": "execute_result"
    }
   ],
   "source": [
    "model.fit(X_train,y_train,validation_data=(X_test,y_test),epochs=100,batch_size=64,verbose=1)"
   ]
  },
  {
   "cell_type": "code",
   "execution_count": 39,
   "id": "fdac080f",
   "metadata": {},
   "outputs": [],
   "source": [
    "import tensorflow as tf"
   ]
  },
  {
   "cell_type": "code",
   "execution_count": 40,
   "id": "1a8b4cec",
   "metadata": {},
   "outputs": [
    {
     "name": "stdout",
     "output_type": "stream",
     "text": [
      "23/23 [==============================] - 2s 28ms/step\n",
      "11/11 [==============================] - 0s 32ms/step\n"
     ]
    }
   ],
   "source": [
    "train_predict=model.predict(X_train)\n",
    "test_predict=model.predict(X_test)"
   ]
  },
  {
   "cell_type": "code",
   "execution_count": 41,
   "id": "fa6454a1",
   "metadata": {},
   "outputs": [],
   "source": [
    "#transform back to original form\n",
    "train_predict=scaler.inverse_transform(train_predict)\n",
    "test_predict=scaler.inverse_transform(test_predict)"
   ]
  },
  {
   "cell_type": "code",
   "execution_count": 42,
   "id": "30c4d7ff",
   "metadata": {},
   "outputs": [
    {
     "data": {
      "text/plain": [
       "232.38949941426736"
      ]
     },
     "execution_count": 42,
     "metadata": {},
     "output_type": "execute_result"
    }
   ],
   "source": [
    "#Calculate RMSE performance metrics\n",
    "import math\n",
    "from sklearn.metrics import mean_squared_error\n",
    "math.sqrt(mean_squared_error(y_train,train_predict))"
   ]
  },
  {
   "cell_type": "code",
   "execution_count": 43,
   "id": "51ae1109",
   "metadata": {},
   "outputs": [
    {
     "data": {
      "text/plain": [
       "157.72305023713452"
      ]
     },
     "execution_count": 43,
     "metadata": {},
     "output_type": "execute_result"
    }
   ],
   "source": [
    "###Test data RMSE\n",
    "math.sqrt(mean_squared_error(y_test,test_predict))"
   ]
  },
  {
   "cell_type": "code",
   "execution_count": 44,
   "id": "cb73ad43",
   "metadata": {},
   "outputs": [
    {
     "data": {
      "image/png": "[encoded data removed]",
      "text/plain": [
       "<Figure size 640x480 with 1 Axes>"
      ]
     },
     "metadata": {},
     "output_type": "display_data"
    }
   ],
   "source": [
    "### Plotting \n",
    "# shift train predictions for plotting\n",
    "look_back=100\n",
    "trainPredictPlot = numpy.empty_like(df1)\n",
    "trainPredictPlot[:, :] = np.nan\n",
    "trainPredictPlot[look_back:len(train_predict)+look_back, :] = train_predict\n",
    "# shift test predictions for plotting\n",
    "testPredictPlot = numpy.empty_like(df1)\n",
    "testPredictPlot[:, :] = numpy.nan\n",
    "testPredictPlot[len(train_predict)+(look_back*2)+1:len(df1)-1, :] = test_predict\n",
    "# plot baseline and predictions\n",
    "plt.plot(scaler.inverse_transform(df1))\n",
    "plt.plot(trainPredictPlot)\n",
    "plt.plot(testPredictPlot)\n",
    "plt.show()"
   ]
  },
  {
   "cell_type": "code",
   "execution_count": 45,
   "id": "736b4020",
   "metadata": {},
   "outputs": [
    {
     "data": {
      "text/plain": [
       "441"
      ]
     },
     "execution_count": 45,
     "metadata": {},
     "output_type": "execute_result"
    }
   ],
   "source": [
    "len(test_data)"
   ]
  },
  {
   "cell_type": "code",
   "execution_count": 46,
   "id": "cf6e4dc5",
   "metadata": {},
   "outputs": [
    {
     "data": {
      "text/plain": [
       "(1, 100)"
      ]
     },
     "execution_count": 46,
     "metadata": {},
     "output_type": "execute_result"
    }
   ],
   "source": [
    "x_input=test_data[341:].reshape(1,-1)\n",
    "x_input.shape"
   ]
  },
  {
   "cell_type": "code",
   "execution_count": 47,
   "id": "0cfd4181",
   "metadata": {},
   "outputs": [],
   "source": [
    "temp_input=list(x_input)\n",
    "temp_input=temp_input[0].tolist()"
   ]
  },
  {
   "cell_type": "code",
   "execution_count": 48,
   "id": "ccd3af69",
   "metadata": {},
   "outputs": [
    {
     "data": {
      "text/plain": [
       "[0.1194489668127739,\n",
       " 0.12303068252974325,\n",
       " 0.1192736380713838,\n",
       " 0.12656230432060112,\n",
       " 0.14174076393237317,\n",
       " 0.1177207263619286,\n",
       " 0.12140262993112083,\n",
       " 0.11403882279273636,\n",
       " 0.10985597996242946,\n",
       " 0.11932373199749524,\n",
       " 0.1253850970569818,\n",
       " 0.1174201628052598,\n",
       " 0.11496556042579836,\n",
       " 0.10917971195992482,\n",
       " 0.11003130870381966,\n",
       " 0.11251095804633682,\n",
       " 0.10770194113963677,\n",
       " 0.08926737633061982,\n",
       " 0.07854727614276763,\n",
       " 0.08919223544145266,\n",
       " 0.09833437695679392,\n",
       " 0.09908578584846583,\n",
       " 0.09665623043206006,\n",
       " 0.08328115216030052,\n",
       " 0.08410770194113959,\n",
       " 0.08050093926111451,\n",
       " 0.07889793362554787,\n",
       " 0.09054477144646211,\n",
       " 0.07899812147777074,\n",
       " 0.08909204758922978,\n",
       " 0.0924483406386975,\n",
       " 0.09272385723231058,\n",
       " 0.09154664996869122,\n",
       " 0.1012648716343143,\n",
       " 0.10672510958046327,\n",
       " 0.11396368190356915,\n",
       " 0.10647463994990602,\n",
       " 0.09507827175954914,\n",
       " 0.1224796493425172,\n",
       " 0.11646837820914213,\n",
       " 0.10973074514715087,\n",
       " 0.0956543519098309,\n",
       " 0.08025046963055726,\n",
       " 0.07899812147777074,\n",
       " 0.08035065748278014,\n",
       " 0.08180338134001247,\n",
       " 0.07020663744520972,\n",
       " 0.10026299311208514,\n",
       " 0.10735128365685653,\n",
       " 0.103794614902943,\n",
       " 0.10820288040075132,\n",
       " 0.10507201001878513,\n",
       " 0.10990607388854096,\n",
       " 0.11133375078271751,\n",
       " 0.10311834690043825,\n",
       " 0.10855353788353161,\n",
       " 0.11078271759549146,\n",
       " 0.10336881653099561,\n",
       " 0.09362554790231681,\n",
       " 0.08598622417031926,\n",
       " 0.10316844082654975,\n",
       " 0.10386975579211016,\n",
       " 0.1026174076393237,\n",
       " 0.0996618659987476,\n",
       " 0.09034439574201625,\n",
       " 0.08541014402003755,\n",
       " 0.08969317470256727,\n",
       " 0.08846587351283652,\n",
       " 0.0943018159048215,\n",
       " 0.096756418284283,\n",
       " 0.09109580463368816,\n",
       " 0.07428929242329363,\n",
       " 0.06930494677520344,\n",
       " 0.06394489668127734,\n",
       " 0.06376956793988725,\n",
       " 0.07165936130244199,\n",
       " 0.0635942391984971,\n",
       " 0.06266750156543521,\n",
       " 0.05808390732623664,\n",
       " 0.04809016906700059,\n",
       " 0.05703193487789604,\n",
       " 0.05783343769567939,\n",
       " 0.04566061365059482,\n",
       " 0.04889167188478394,\n",
       " 0.045535378835316165,\n",
       " 0.05705698184095176,\n",
       " 0.05838447088290544,\n",
       " 0.05983719474013771,\n",
       " 0.06675015654351907,\n",
       " 0.0665497808390732,\n",
       " 0.0699311208515967,\n",
       " 0.0728866624921728,\n",
       " 0.07105823418910456,\n",
       " 0.07120851596743893,\n",
       " 0.07772072636192856,\n",
       " 0.08583594239198494,\n",
       " 0.08939261114589853,\n",
       " 0.08771446462116467,\n",
       " 0.09297432686286783,\n",
       " 0.09790857858484658]"
      ]
     },
     "execution_count": 48,
     "metadata": {},
     "output_type": "execute_result"
    }
   ],
   "source": [
    "temp_input"
   ]
  },
  {
   "cell_type": "code",
   "execution_count": 49,
   "id": "b5298678",
   "metadata": {},
   "outputs": [
    {
     "name": "stdout",
     "output_type": "stream",
     "text": [
      "[0.0885801]\n",
      "101\n",
      "1 day input [0.12303068 0.11927364 0.1265623  0.14174076 0.11772073 0.12140263\n",
      " 0.11403882 0.10985598 0.11932373 0.1253851  0.11742016 0.11496556\n",
      " 0.10917971 0.11003131 0.11251096 0.10770194 0.08926738 0.07854728\n",
      " 0.08919224 0.09833438 0.09908579 0.09665623 0.08328115 0.0841077\n",
      " 0.08050094 0.07889793 0.09054477 0.07899812 0.08909205 0.09244834\n",
      " 0.09272386 0.09154665 0.10126487 0.10672511 0.11396368 0.10647464\n",
      " 0.09507827 0.12247965 0.11646838 0.10973075 0.09565435 0.08025047\n",
      " 0.07899812 0.08035066 0.08180338 0.07020664 0.10026299 0.10735128\n",
      " 0.10379461 0.10820288 0.10507201 0.10990607 0.11133375 0.10311835\n",
      " 0.10855354 0.11078272 0.10336882 0.09362555 0.08598622 0.10316844\n",
      " 0.10386976 0.10261741 0.09966187 0.0903444  0.08541014 0.08969317\n",
      " 0.08846587 0.09430182 0.09675642 0.0910958  0.07428929 0.06930495\n",
      " 0.0639449  0.06376957 0.07165936 0.06359424 0.0626675  0.05808391\n",
      " 0.04809017 0.05703193 0.05783344 0.04566061 0.04889167 0.04553538\n",
      " 0.05705698 0.05838447 0.05983719 0.06675016 0.06654978 0.06993112\n",
      " 0.07288666 0.07105823 0.07120852 0.07772073 0.08583594 0.08939261\n",
      " 0.08771446 0.09297433 0.09790858 0.0885801 ]\n",
      "1 day output [[0.09127429]]\n",
      "2 day input [0.11927364 0.1265623  0.14174076 0.11772073 0.12140263 0.11403882\n",
      " 0.10985598 0.11932373 0.1253851  0.11742016 0.11496556 0.10917971\n",
      " 0.11003131 0.11251096 0.10770194 0.08926738 0.07854728 0.08919224\n",
      " 0.09833438 0.09908579 0.09665623 0.08328115 0.0841077  0.08050094\n",
      " 0.07889793 0.09054477 0.07899812 0.08909205 0.09244834 0.09272386\n",
      " 0.09154665 0.10126487 0.10672511 0.11396368 0.10647464 0.09507827\n",
      " 0.12247965 0.11646838 0.10973075 0.09565435 0.08025047 0.07899812\n",
      " 0.08035066 0.08180338 0.07020664 0.10026299 0.10735128 0.10379461\n",
      " 0.10820288 0.10507201 0.10990607 0.11133375 0.10311835 0.10855354\n",
      " 0.11078272 0.10336882 0.09362555 0.08598622 0.10316844 0.10386976\n",
      " 0.10261741 0.09966187 0.0903444  0.08541014 0.08969317 0.08846587\n",
      " 0.09430182 0.09675642 0.0910958  0.07428929 0.06930495 0.0639449\n",
      " 0.06376957 0.07165936 0.06359424 0.0626675  0.05808391 0.04809017\n",
      " 0.05703193 0.05783344 0.04566061 0.04889167 0.04553538 0.05705698\n",
      " 0.05838447 0.05983719 0.06675016 0.06654978 0.06993112 0.07288666\n",
      " 0.07105823 0.07120852 0.07772073 0.08583594 0.08939261 0.08771446\n",
      " 0.09297433 0.09790858 0.0885801  0.09127429]\n",
      "2 day output [[0.09356444]]\n",
      "3 day input [0.1265623  0.14174076 0.11772073 0.12140263 0.11403882 0.10985598\n",
      " 0.11932373 0.1253851  0.11742016 0.11496556 0.10917971 0.11003131\n",
      " 0.11251096 0.10770194 0.08926738 0.07854728 0.08919224 0.09833438\n",
      " 0.09908579 0.09665623 0.08328115 0.0841077  0.08050094 0.07889793\n",
      " 0.09054477 0.07899812 0.08909205 0.09244834 0.09272386 0.09154665\n",
      " 0.10126487 0.10672511 0.11396368 0.10647464 0.09507827 0.12247965\n",
      " 0.11646838 0.10973075 0.09565435 0.08025047 0.07899812 0.08035066\n",
      " 0.08180338 0.07020664 0.10026299 0.10735128 0.10379461 0.10820288\n",
      " 0.10507201 0.10990607 0.11133375 0.10311835 0.10855354 0.11078272\n",
      " 0.10336882 0.09362555 0.08598622 0.10316844 0.10386976 0.10261741\n",
      " 0.09966187 0.0903444  0.08541014 0.08969317 0.08846587 0.09430182\n",
      " 0.09675642 0.0910958  0.07428929 0.06930495 0.0639449  0.06376957\n",
      " 0.07165936 0.06359424 0.0626675  0.05808391 0.04809017 0.05703193\n",
      " 0.05783344 0.04566061 0.04889167 0.04553538 0.05705698 0.05838447\n",
      " 0.05983719 0.06675016 0.06654978 0.06993112 0.07288666 0.07105823\n",
      " 0.07120852 0.07772073 0.08583594 0.08939261 0.08771446 0.09297433\n",
      " 0.09790858 0.0885801  0.09127429 0.09356444]\n",
      "3 day output [[0.09552057]]\n",
      "4 day input [0.14174076 0.11772073 0.12140263 0.11403882 0.10985598 0.11932373\n",
      " 0.1253851  0.11742016 0.11496556 0.10917971 0.11003131 0.11251096\n",
      " 0.10770194 0.08926738 0.07854728 0.08919224 0.09833438 0.09908579\n",
      " 0.09665623 0.08328115 0.0841077  0.08050094 0.07889793 0.09054477\n",
      " 0.07899812 0.08909205 0.09244834 0.09272386 0.09154665 0.10126487\n",
      " 0.10672511 0.11396368 0.10647464 0.09507827 0.12247965 0.11646838\n",
      " 0.10973075 0.09565435 0.08025047 0.07899812 0.08035066 0.08180338\n",
      " 0.07020664 0.10026299 0.10735128 0.10379461 0.10820288 0.10507201\n",
      " 0.10990607 0.11133375 0.10311835 0.10855354 0.11078272 0.10336882\n",
      " 0.09362555 0.08598622 0.10316844 0.10386976 0.10261741 0.09966187\n",
      " 0.0903444  0.08541014 0.08969317 0.08846587 0.09430182 0.09675642\n",
      " 0.0910958  0.07428929 0.06930495 0.0639449  0.06376957 0.07165936\n",
      " 0.06359424 0.0626675  0.05808391 0.04809017 0.05703193 0.05783344\n",
      " 0.04566061 0.04889167 0.04553538 0.05705698 0.05838447 0.05983719\n",
      " 0.06675016 0.06654978 0.06993112 0.07288666 0.07105823 0.07120852\n",
      " 0.07772073 0.08583594 0.08939261 0.08771446 0.09297433 0.09790858\n",
      " 0.0885801  0.09127429 0.09356444 0.09552057]\n",
      "4 day output [[0.09723818]]\n",
      "5 day input [0.11772073 0.12140263 0.11403882 0.10985598 0.11932373 0.1253851\n",
      " 0.11742016 0.11496556 0.10917971 0.11003131 0.11251096 0.10770194\n",
      " 0.08926738 0.07854728 0.08919224 0.09833438 0.09908579 0.09665623\n",
      " 0.08328115 0.0841077  0.08050094 0.07889793 0.09054477 0.07899812\n",
      " 0.08909205 0.09244834 0.09272386 0.09154665 0.10126487 0.10672511\n",
      " 0.11396368 0.10647464 0.09507827 0.12247965 0.11646838 0.10973075\n",
      " 0.09565435 0.08025047 0.07899812 0.08035066 0.08180338 0.07020664\n",
      " 0.10026299 0.10735128 0.10379461 0.10820288 0.10507201 0.10990607\n",
      " 0.11133375 0.10311835 0.10855354 0.11078272 0.10336882 0.09362555\n",
      " 0.08598622 0.10316844 0.10386976 0.10261741 0.09966187 0.0903444\n",
      " 0.08541014 0.08969317 0.08846587 0.09430182 0.09675642 0.0910958\n",
      " 0.07428929 0.06930495 0.0639449  0.06376957 0.07165936 0.06359424\n",
      " 0.0626675  0.05808391 0.04809017 0.05703193 0.05783344 0.04566061\n",
      " 0.04889167 0.04553538 0.05705698 0.05838447 0.05983719 0.06675016\n",
      " 0.06654978 0.06993112 0.07288666 0.07105823 0.07120852 0.07772073\n",
      " 0.08583594 0.08939261 0.08771446 0.09297433 0.09790858 0.0885801\n",
      " 0.09127429 0.09356444 0.09552057 0.09723818]\n",
      "5 day output [[0.09879645]]\n",
      "6 day input [0.12140263 0.11403882 0.10985598 0.11932373 0.1253851  0.11742016\n",
      " 0.11496556 0.10917971 0.11003131 0.11251096 0.10770194 0.08926738\n",
      " 0.07854728 0.08919224 0.09833438 0.09908579 0.09665623 0.08328115\n",
      " 0.0841077  0.08050094 0.07889793 0.09054477 0.07899812 0.08909205\n",
      " 0.09244834 0.09272386 0.09154665 0.10126487 0.10672511 0.11396368\n",
      " 0.10647464 0.09507827 0.12247965 0.11646838 0.10973075 0.09565435\n",
      " 0.08025047 0.07899812 0.08035066 0.08180338 0.07020664 0.10026299\n",
      " 0.10735128 0.10379461 0.10820288 0.10507201 0.10990607 0.11133375\n",
      " 0.10311835 0.10855354 0.11078272 0.10336882 0.09362555 0.08598622\n",
      " 0.10316844 0.10386976 0.10261741 0.09966187 0.0903444  0.08541014\n",
      " 0.08969317 0.08846587 0.09430182 0.09675642 0.0910958  0.07428929\n",
      " 0.06930495 0.0639449  0.06376957 0.07165936 0.06359424 0.0626675\n",
      " 0.05808391 0.04809017 0.05703193 0.05783344 0.04566061 0.04889167\n",
      " 0.04553538 0.05705698 0.05838447 0.05983719 0.06675016 0.06654978\n",
      " 0.06993112 0.07288666 0.07105823 0.07120852 0.07772073 0.08583594\n",
      " 0.08939261 0.08771446 0.09297433 0.09790858 0.0885801  0.09127429\n",
      " 0.09356444 0.09552057 0.09723818 0.09879645]\n",
      "6 day output [[0.10025097]]\n",
      "7 day input [0.11403882 0.10985598 0.11932373 0.1253851  0.11742016 0.11496556\n",
      " 0.10917971 0.11003131 0.11251096 0.10770194 0.08926738 0.07854728\n",
      " 0.08919224 0.09833438 0.09908579 0.09665623 0.08328115 0.0841077\n",
      " 0.08050094 0.07889793 0.09054477 0.07899812 0.08909205 0.09244834\n",
      " 0.09272386 0.09154665 0.10126487 0.10672511 0.11396368 0.10647464\n",
      " 0.09507827 0.12247965 0.11646838 0.10973075 0.09565435 0.08025047\n",
      " 0.07899812 0.08035066 0.08180338 0.07020664 0.10026299 0.10735128\n",
      " 0.10379461 0.10820288 0.10507201 0.10990607 0.11133375 0.10311835\n",
      " 0.10855354 0.11078272 0.10336882 0.09362555 0.08598622 0.10316844\n",
      " 0.10386976 0.10261741 0.09966187 0.0903444  0.08541014 0.08969317\n",
      " 0.08846587 0.09430182 0.09675642 0.0910958  0.07428929 0.06930495\n",
      " 0.0639449  0.06376957 0.07165936 0.06359424 0.0626675  0.05808391\n",
      " 0.04809017 0.05703193 0.05783344 0.04566061 0.04889167 0.04553538\n",
      " 0.05705698 0.05838447 0.05983719 0.06675016 0.06654978 0.06993112\n",
      " 0.07288666 0.07105823 0.07120852 0.07772073 0.08583594 0.08939261\n",
      " 0.08771446 0.09297433 0.09790858 0.0885801  0.09127429 0.09356444\n",
      " 0.09552057 0.09723818 0.09879645 0.10025097]\n",
      "7 day output [[0.10163793]]\n",
      "8 day input [0.10985598 0.11932373 0.1253851  0.11742016 0.11496556 0.10917971\n",
      " 0.11003131 0.11251096 0.10770194 0.08926738 0.07854728 0.08919224\n",
      " 0.09833438 0.09908579 0.09665623 0.08328115 0.0841077  0.08050094\n",
      " 0.07889793 0.09054477 0.07899812 0.08909205 0.09244834 0.09272386\n",
      " 0.09154665 0.10126487 0.10672511 0.11396368 0.10647464 0.09507827\n",
      " 0.12247965 0.11646838 0.10973075 0.09565435 0.08025047 0.07899812\n",
      " 0.08035066 0.08180338 0.07020664 0.10026299 0.10735128 0.10379461\n",
      " 0.10820288 0.10507201 0.10990607 0.11133375 0.10311835 0.10855354\n",
      " 0.11078272 0.10336882 0.09362555 0.08598622 0.10316844 0.10386976\n",
      " 0.10261741 0.09966187 0.0903444  0.08541014 0.08969317 0.08846587\n",
      " 0.09430182 0.09675642 0.0910958  0.07428929 0.06930495 0.0639449\n",
      " 0.06376957 0.07165936 0.06359424 0.0626675  0.05808391 0.04809017\n",
      " 0.05703193 0.05783344 0.04566061 0.04889167 0.04553538 0.05705698\n",
      " 0.05838447 0.05983719 0.06675016 0.06654978 0.06993112 0.07288666\n",
      " 0.07105823 0.07120852 0.07772073 0.08583594 0.08939261 0.08771446\n",
      " 0.09297433 0.09790858 0.0885801  0.09127429 0.09356444 0.09552057\n",
      " 0.09723818 0.09879645 0.10025097 0.10163793]\n"
     ]
    },
    {
     "name": "stdout",
     "output_type": "stream",
     "text": [
      "8 day output [[0.10298071]]\n",
      "9 day input [0.11932373 0.1253851  0.11742016 0.11496556 0.10917971 0.11003131\n",
      " 0.11251096 0.10770194 0.08926738 0.07854728 0.08919224 0.09833438\n",
      " 0.09908579 0.09665623 0.08328115 0.0841077  0.08050094 0.07889793\n",
      " 0.09054477 0.07899812 0.08909205 0.09244834 0.09272386 0.09154665\n",
      " 0.10126487 0.10672511 0.11396368 0.10647464 0.09507827 0.12247965\n",
      " 0.11646838 0.10973075 0.09565435 0.08025047 0.07899812 0.08035066\n",
      " 0.08180338 0.07020664 0.10026299 0.10735128 0.10379461 0.10820288\n",
      " 0.10507201 0.10990607 0.11133375 0.10311835 0.10855354 0.11078272\n",
      " 0.10336882 0.09362555 0.08598622 0.10316844 0.10386976 0.10261741\n",
      " 0.09966187 0.0903444  0.08541014 0.08969317 0.08846587 0.09430182\n",
      " 0.09675642 0.0910958  0.07428929 0.06930495 0.0639449  0.06376957\n",
      " 0.07165936 0.06359424 0.0626675  0.05808391 0.04809017 0.05703193\n",
      " 0.05783344 0.04566061 0.04889167 0.04553538 0.05705698 0.05838447\n",
      " 0.05983719 0.06675016 0.06654978 0.06993112 0.07288666 0.07105823\n",
      " 0.07120852 0.07772073 0.08583594 0.08939261 0.08771446 0.09297433\n",
      " 0.09790858 0.0885801  0.09127429 0.09356444 0.09552057 0.09723818\n",
      " 0.09879645 0.10025097 0.10163793 0.10298071]\n",
      "9 day output [[0.10429487]]\n",
      "10 day input [0.1253851  0.11742016 0.11496556 0.10917971 0.11003131 0.11251096\n",
      " 0.10770194 0.08926738 0.07854728 0.08919224 0.09833438 0.09908579\n",
      " 0.09665623 0.08328115 0.0841077  0.08050094 0.07889793 0.09054477\n",
      " 0.07899812 0.08909205 0.09244834 0.09272386 0.09154665 0.10126487\n",
      " 0.10672511 0.11396368 0.10647464 0.09507827 0.12247965 0.11646838\n",
      " 0.10973075 0.09565435 0.08025047 0.07899812 0.08035066 0.08180338\n",
      " 0.07020664 0.10026299 0.10735128 0.10379461 0.10820288 0.10507201\n",
      " 0.10990607 0.11133375 0.10311835 0.10855354 0.11078272 0.10336882\n",
      " 0.09362555 0.08598622 0.10316844 0.10386976 0.10261741 0.09966187\n",
      " 0.0903444  0.08541014 0.08969317 0.08846587 0.09430182 0.09675642\n",
      " 0.0910958  0.07428929 0.06930495 0.0639449  0.06376957 0.07165936\n",
      " 0.06359424 0.0626675  0.05808391 0.04809017 0.05703193 0.05783344\n",
      " 0.04566061 0.04889167 0.04553538 0.05705698 0.05838447 0.05983719\n",
      " 0.06675016 0.06654978 0.06993112 0.07288666 0.07105823 0.07120852\n",
      " 0.07772073 0.08583594 0.08939261 0.08771446 0.09297433 0.09790858\n",
      " 0.0885801  0.09127429 0.09356444 0.09552057 0.09723818 0.09879645\n",
      " 0.10025097 0.10163793 0.10298071 0.10429487]\n",
      "10 day output [[0.10559127]]\n",
      "11 day input [0.11742016 0.11496556 0.10917971 0.11003131 0.11251096 0.10770194\n",
      " 0.08926738 0.07854728 0.08919224 0.09833438 0.09908579 0.09665623\n",
      " 0.08328115 0.0841077  0.08050094 0.07889793 0.09054477 0.07899812\n",
      " 0.08909205 0.09244834 0.09272386 0.09154665 0.10126487 0.10672511\n",
      " 0.11396368 0.10647464 0.09507827 0.12247965 0.11646838 0.10973075\n",
      " 0.09565435 0.08025047 0.07899812 0.08035066 0.08180338 0.07020664\n",
      " 0.10026299 0.10735128 0.10379461 0.10820288 0.10507201 0.10990607\n",
      " 0.11133375 0.10311835 0.10855354 0.11078272 0.10336882 0.09362555\n",
      " 0.08598622 0.10316844 0.10386976 0.10261741 0.09966187 0.0903444\n",
      " 0.08541014 0.08969317 0.08846587 0.09430182 0.09675642 0.0910958\n",
      " 0.07428929 0.06930495 0.0639449  0.06376957 0.07165936 0.06359424\n",
      " 0.0626675  0.05808391 0.04809017 0.05703193 0.05783344 0.04566061\n",
      " 0.04889167 0.04553538 0.05705698 0.05838447 0.05983719 0.06675016\n",
      " 0.06654978 0.06993112 0.07288666 0.07105823 0.07120852 0.07772073\n",
      " 0.08583594 0.08939261 0.08771446 0.09297433 0.09790858 0.0885801\n",
      " 0.09127429 0.09356444 0.09552057 0.09723818 0.09879645 0.10025097\n",
      " 0.10163793 0.10298071 0.10429487 0.10559127]\n",
      "11 day output [[0.10687823]]\n",
      "12 day input [0.11496556 0.10917971 0.11003131 0.11251096 0.10770194 0.08926738\n",
      " 0.07854728 0.08919224 0.09833438 0.09908579 0.09665623 0.08328115\n",
      " 0.0841077  0.08050094 0.07889793 0.09054477 0.07899812 0.08909205\n",
      " 0.09244834 0.09272386 0.09154665 0.10126487 0.10672511 0.11396368\n",
      " 0.10647464 0.09507827 0.12247965 0.11646838 0.10973075 0.09565435\n",
      " 0.08025047 0.07899812 0.08035066 0.08180338 0.07020664 0.10026299\n",
      " 0.10735128 0.10379461 0.10820288 0.10507201 0.10990607 0.11133375\n",
      " 0.10311835 0.10855354 0.11078272 0.10336882 0.09362555 0.08598622\n",
      " 0.10316844 0.10386976 0.10261741 0.09966187 0.0903444  0.08541014\n",
      " 0.08969317 0.08846587 0.09430182 0.09675642 0.0910958  0.07428929\n",
      " 0.06930495 0.0639449  0.06376957 0.07165936 0.06359424 0.0626675\n",
      " 0.05808391 0.04809017 0.05703193 0.05783344 0.04566061 0.04889167\n",
      " 0.04553538 0.05705698 0.05838447 0.05983719 0.06675016 0.06654978\n",
      " 0.06993112 0.07288666 0.07105823 0.07120852 0.07772073 0.08583594\n",
      " 0.08939261 0.08771446 0.09297433 0.09790858 0.0885801  0.09127429\n",
      " 0.09356444 0.09552057 0.09723818 0.09879645 0.10025097 0.10163793\n",
      " 0.10298071 0.10429487 0.10559127 0.10687823]\n",
      "12 day output [[0.10816196]]\n",
      "13 day input [0.10917971 0.11003131 0.11251096 0.10770194 0.08926738 0.07854728\n",
      " 0.08919224 0.09833438 0.09908579 0.09665623 0.08328115 0.0841077\n",
      " 0.08050094 0.07889793 0.09054477 0.07899812 0.08909205 0.09244834\n",
      " 0.09272386 0.09154665 0.10126487 0.10672511 0.11396368 0.10647464\n",
      " 0.09507827 0.12247965 0.11646838 0.10973075 0.09565435 0.08025047\n",
      " 0.07899812 0.08035066 0.08180338 0.07020664 0.10026299 0.10735128\n",
      " 0.10379461 0.10820288 0.10507201 0.10990607 0.11133375 0.10311835\n",
      " 0.10855354 0.11078272 0.10336882 0.09362555 0.08598622 0.10316844\n",
      " 0.10386976 0.10261741 0.09966187 0.0903444  0.08541014 0.08969317\n",
      " 0.08846587 0.09430182 0.09675642 0.0910958  0.07428929 0.06930495\n",
      " 0.0639449  0.06376957 0.07165936 0.06359424 0.0626675  0.05808391\n",
      " 0.04809017 0.05703193 0.05783344 0.04566061 0.04889167 0.04553538\n",
      " 0.05705698 0.05838447 0.05983719 0.06675016 0.06654978 0.06993112\n",
      " 0.07288666 0.07105823 0.07120852 0.07772073 0.08583594 0.08939261\n",
      " 0.08771446 0.09297433 0.09790858 0.0885801  0.09127429 0.09356444\n",
      " 0.09552057 0.09723818 0.09879645 0.10025097 0.10163793 0.10298071\n",
      " 0.10429487 0.10559127 0.10687823 0.10816196]\n",
      "13 day output [[0.1094472]]\n",
      "14 day input [0.11003131 0.11251096 0.10770194 0.08926738 0.07854728 0.08919224\n",
      " 0.09833438 0.09908579 0.09665623 0.08328115 0.0841077  0.08050094\n",
      " 0.07889793 0.09054477 0.07899812 0.08909205 0.09244834 0.09272386\n",
      " 0.09154665 0.10126487 0.10672511 0.11396368 0.10647464 0.09507827\n",
      " 0.12247965 0.11646838 0.10973075 0.09565435 0.08025047 0.07899812\n",
      " 0.08035066 0.08180338 0.07020664 0.10026299 0.10735128 0.10379461\n",
      " 0.10820288 0.10507201 0.10990607 0.11133375 0.10311835 0.10855354\n",
      " 0.11078272 0.10336882 0.09362555 0.08598622 0.10316844 0.10386976\n",
      " 0.10261741 0.09966187 0.0903444  0.08541014 0.08969317 0.08846587\n",
      " 0.09430182 0.09675642 0.0910958  0.07428929 0.06930495 0.0639449\n",
      " 0.06376957 0.07165936 0.06359424 0.0626675  0.05808391 0.04809017\n",
      " 0.05703193 0.05783344 0.04566061 0.04889167 0.04553538 0.05705698\n",
      " 0.05838447 0.05983719 0.06675016 0.06654978 0.06993112 0.07288666\n",
      " 0.07105823 0.07120852 0.07772073 0.08583594 0.08939261 0.08771446\n",
      " 0.09297433 0.09790858 0.0885801  0.09127429 0.09356444 0.09552057\n",
      " 0.09723818 0.09879645 0.10025097 0.10163793 0.10298071 0.10429487\n",
      " 0.10559127 0.10687823 0.10816196 0.1094472 ]\n",
      "14 day output [[0.1107373]]\n",
      "15 day input [0.11251096 0.10770194 0.08926738 0.07854728 0.08919224 0.09833438\n",
      " 0.09908579 0.09665623 0.08328115 0.0841077  0.08050094 0.07889793\n",
      " 0.09054477 0.07899812 0.08909205 0.09244834 0.09272386 0.09154665\n",
      " 0.10126487 0.10672511 0.11396368 0.10647464 0.09507827 0.12247965\n",
      " 0.11646838 0.10973075 0.09565435 0.08025047 0.07899812 0.08035066\n",
      " 0.08180338 0.07020664 0.10026299 0.10735128 0.10379461 0.10820288\n",
      " 0.10507201 0.10990607 0.11133375 0.10311835 0.10855354 0.11078272\n",
      " 0.10336882 0.09362555 0.08598622 0.10316844 0.10386976 0.10261741\n",
      " 0.09966187 0.0903444  0.08541014 0.08969317 0.08846587 0.09430182\n",
      " 0.09675642 0.0910958  0.07428929 0.06930495 0.0639449  0.06376957\n",
      " 0.07165936 0.06359424 0.0626675  0.05808391 0.04809017 0.05703193\n",
      " 0.05783344 0.04566061 0.04889167 0.04553538 0.05705698 0.05838447\n",
      " 0.05983719 0.06675016 0.06654978 0.06993112 0.07288666 0.07105823\n",
      " 0.07120852 0.07772073 0.08583594 0.08939261 0.08771446 0.09297433\n",
      " 0.09790858 0.0885801  0.09127429 0.09356444 0.09552057 0.09723818\n",
      " 0.09879645 0.10025097 0.10163793 0.10298071 0.10429487 0.10559127\n",
      " 0.10687823 0.10816196 0.1094472  0.1107373 ]\n",
      "15 day output [[0.1120343]]\n",
      "16 day input [0.10770194 0.08926738 0.07854728 0.08919224 0.09833438 0.09908579\n",
      " 0.09665623 0.08328115 0.0841077  0.08050094 0.07889793 0.09054477\n",
      " 0.07899812 0.08909205 0.09244834 0.09272386 0.09154665 0.10126487\n",
      " 0.10672511 0.11396368 0.10647464 0.09507827 0.12247965 0.11646838\n",
      " 0.10973075 0.09565435 0.08025047 0.07899812 0.08035066 0.08180338\n",
      " 0.07020664 0.10026299 0.10735128 0.10379461 0.10820288 0.10507201\n",
      " 0.10990607 0.11133375 0.10311835 0.10855354 0.11078272 0.10336882\n",
      " 0.09362555 0.08598622 0.10316844 0.10386976 0.10261741 0.09966187\n",
      " 0.0903444  0.08541014 0.08969317 0.08846587 0.09430182 0.09675642\n",
      " 0.0910958  0.07428929 0.06930495 0.0639449  0.06376957 0.07165936\n",
      " 0.06359424 0.0626675  0.05808391 0.04809017 0.05703193 0.05783344\n",
      " 0.04566061 0.04889167 0.04553538 0.05705698 0.05838447 0.05983719\n",
      " 0.06675016 0.06654978 0.06993112 0.07288666 0.07105823 0.07120852\n",
      " 0.07772073 0.08583594 0.08939261 0.08771446 0.09297433 0.09790858\n",
      " 0.0885801  0.09127429 0.09356444 0.09552057 0.09723818 0.09879645\n",
      " 0.10025097 0.10163793 0.10298071 0.10429487 0.10559127 0.10687823\n",
      " 0.10816196 0.1094472  0.1107373  0.1120343 ]\n",
      "16 day output [[0.11333912]]\n",
      "17 day input [0.08926738 0.07854728 0.08919224 0.09833438 0.09908579 0.09665623\n",
      " 0.08328115 0.0841077  0.08050094 0.07889793 0.09054477 0.07899812\n",
      " 0.08909205 0.09244834 0.09272386 0.09154665 0.10126487 0.10672511\n",
      " 0.11396368 0.10647464 0.09507827 0.12247965 0.11646838 0.10973075\n",
      " 0.09565435 0.08025047 0.07899812 0.08035066 0.08180338 0.07020664\n",
      " 0.10026299 0.10735128 0.10379461 0.10820288 0.10507201 0.10990607\n",
      " 0.11133375 0.10311835 0.10855354 0.11078272 0.10336882 0.09362555\n",
      " 0.08598622 0.10316844 0.10386976 0.10261741 0.09966187 0.0903444\n",
      " 0.08541014 0.08969317 0.08846587 0.09430182 0.09675642 0.0910958\n",
      " 0.07428929 0.06930495 0.0639449  0.06376957 0.07165936 0.06359424\n",
      " 0.0626675  0.05808391 0.04809017 0.05703193 0.05783344 0.04566061\n",
      " 0.04889167 0.04553538 0.05705698 0.05838447 0.05983719 0.06675016\n",
      " 0.06654978 0.06993112 0.07288666 0.07105823 0.07120852 0.07772073\n",
      " 0.08583594 0.08939261 0.08771446 0.09297433 0.09790858 0.0885801\n",
      " 0.09127429 0.09356444 0.09552057 0.09723818 0.09879645 0.10025097\n",
      " 0.10163793 0.10298071 0.10429487 0.10559127 0.10687823 0.10816196\n",
      " 0.1094472  0.1107373  0.1120343  0.11333912]\n",
      "17 day output [[0.11465149]]\n",
      "18 day input [0.07854728 0.08919224 0.09833438 0.09908579 0.09665623 0.08328115\n",
      " 0.0841077  0.08050094 0.07889793 0.09054477 0.07899812 0.08909205\n",
      " 0.09244834 0.09272386 0.09154665 0.10126487 0.10672511 0.11396368\n",
      " 0.10647464 0.09507827 0.12247965 0.11646838 0.10973075 0.09565435\n",
      " 0.08025047 0.07899812 0.08035066 0.08180338 0.07020664 0.10026299\n",
      " 0.10735128 0.10379461 0.10820288 0.10507201 0.10990607 0.11133375\n",
      " 0.10311835 0.10855354 0.11078272 0.10336882 0.09362555 0.08598622\n",
      " 0.10316844 0.10386976 0.10261741 0.09966187 0.0903444  0.08541014\n",
      " 0.08969317 0.08846587 0.09430182 0.09675642 0.0910958  0.07428929\n",
      " 0.06930495 0.0639449  0.06376957 0.07165936 0.06359424 0.0626675\n",
      " 0.05808391 0.04809017 0.05703193 0.05783344 0.04566061 0.04889167\n",
      " 0.04553538 0.05705698 0.05838447 0.05983719 0.06675016 0.06654978\n",
      " 0.06993112 0.07288666 0.07105823 0.07120852 0.07772073 0.08583594\n",
      " 0.08939261 0.08771446 0.09297433 0.09790858 0.0885801  0.09127429\n",
      " 0.09356444 0.09552057 0.09723818 0.09879645 0.10025097 0.10163793\n",
      " 0.10298071 0.10429487 0.10559127 0.10687823 0.10816196 0.1094472\n",
      " 0.1107373  0.1120343  0.11333912 0.11465149]\n"
     ]
    },
    {
     "name": "stdout",
     "output_type": "stream",
     "text": [
      "18 day output [[0.11597045]]\n",
      "19 day input [0.08919224 0.09833438 0.09908579 0.09665623 0.08328115 0.0841077\n",
      " 0.08050094 0.07889793 0.09054477 0.07899812 0.08909205 0.09244834\n",
      " 0.09272386 0.09154665 0.10126487 0.10672511 0.11396368 0.10647464\n",
      " 0.09507827 0.12247965 0.11646838 0.10973075 0.09565435 0.08025047\n",
      " 0.07899812 0.08035066 0.08180338 0.07020664 0.10026299 0.10735128\n",
      " 0.10379461 0.10820288 0.10507201 0.10990607 0.11133375 0.10311835\n",
      " 0.10855354 0.11078272 0.10336882 0.09362555 0.08598622 0.10316844\n",
      " 0.10386976 0.10261741 0.09966187 0.0903444  0.08541014 0.08969317\n",
      " 0.08846587 0.09430182 0.09675642 0.0910958  0.07428929 0.06930495\n",
      " 0.0639449  0.06376957 0.07165936 0.06359424 0.0626675  0.05808391\n",
      " 0.04809017 0.05703193 0.05783344 0.04566061 0.04889167 0.04553538\n",
      " 0.05705698 0.05838447 0.05983719 0.06675016 0.06654978 0.06993112\n",
      " 0.07288666 0.07105823 0.07120852 0.07772073 0.08583594 0.08939261\n",
      " 0.08771446 0.09297433 0.09790858 0.0885801  0.09127429 0.09356444\n",
      " 0.09552057 0.09723818 0.09879645 0.10025097 0.10163793 0.10298071\n",
      " 0.10429487 0.10559127 0.10687823 0.10816196 0.1094472  0.1107373\n",
      " 0.1120343  0.11333912 0.11465149 0.11597045]\n",
      "19 day output [[0.11729423]]\n",
      "20 day input [0.09833438 0.09908579 0.09665623 0.08328115 0.0841077  0.08050094\n",
      " 0.07889793 0.09054477 0.07899812 0.08909205 0.09244834 0.09272386\n",
      " 0.09154665 0.10126487 0.10672511 0.11396368 0.10647464 0.09507827\n",
      " 0.12247965 0.11646838 0.10973075 0.09565435 0.08025047 0.07899812\n",
      " 0.08035066 0.08180338 0.07020664 0.10026299 0.10735128 0.10379461\n",
      " 0.10820288 0.10507201 0.10990607 0.11133375 0.10311835 0.10855354\n",
      " 0.11078272 0.10336882 0.09362555 0.08598622 0.10316844 0.10386976\n",
      " 0.10261741 0.09966187 0.0903444  0.08541014 0.08969317 0.08846587\n",
      " 0.09430182 0.09675642 0.0910958  0.07428929 0.06930495 0.0639449\n",
      " 0.06376957 0.07165936 0.06359424 0.0626675  0.05808391 0.04809017\n",
      " 0.05703193 0.05783344 0.04566061 0.04889167 0.04553538 0.05705698\n",
      " 0.05838447 0.05983719 0.06675016 0.06654978 0.06993112 0.07288666\n",
      " 0.07105823 0.07120852 0.07772073 0.08583594 0.08939261 0.08771446\n",
      " 0.09297433 0.09790858 0.0885801  0.09127429 0.09356444 0.09552057\n",
      " 0.09723818 0.09879645 0.10025097 0.10163793 0.10298071 0.10429487\n",
      " 0.10559127 0.10687823 0.10816196 0.1094472  0.1107373  0.1120343\n",
      " 0.11333912 0.11465149 0.11597045 0.11729423]\n",
      "20 day output [[0.11862078]]\n",
      "21 day input [0.09908579 0.09665623 0.08328115 0.0841077  0.08050094 0.07889793\n",
      " 0.09054477 0.07899812 0.08909205 0.09244834 0.09272386 0.09154665\n",
      " 0.10126487 0.10672511 0.11396368 0.10647464 0.09507827 0.12247965\n",
      " 0.11646838 0.10973075 0.09565435 0.08025047 0.07899812 0.08035066\n",
      " 0.08180338 0.07020664 0.10026299 0.10735128 0.10379461 0.10820288\n",
      " 0.10507201 0.10990607 0.11133375 0.10311835 0.10855354 0.11078272\n",
      " 0.10336882 0.09362555 0.08598622 0.10316844 0.10386976 0.10261741\n",
      " 0.09966187 0.0903444  0.08541014 0.08969317 0.08846587 0.09430182\n",
      " 0.09675642 0.0910958  0.07428929 0.06930495 0.0639449  0.06376957\n",
      " 0.07165936 0.06359424 0.0626675  0.05808391 0.04809017 0.05703193\n",
      " 0.05783344 0.04566061 0.04889167 0.04553538 0.05705698 0.05838447\n",
      " 0.05983719 0.06675016 0.06654978 0.06993112 0.07288666 0.07105823\n",
      " 0.07120852 0.07772073 0.08583594 0.08939261 0.08771446 0.09297433\n",
      " 0.09790858 0.0885801  0.09127429 0.09356444 0.09552057 0.09723818\n",
      " 0.09879645 0.10025097 0.10163793 0.10298071 0.10429487 0.10559127\n",
      " 0.10687823 0.10816196 0.1094472  0.1107373  0.1120343  0.11333912\n",
      " 0.11465149 0.11597045 0.11729423 0.11862078]\n",
      "21 day output [[0.11994772]]\n",
      "22 day input [0.09665623 0.08328115 0.0841077  0.08050094 0.07889793 0.09054477\n",
      " 0.07899812 0.08909205 0.09244834 0.09272386 0.09154665 0.10126487\n",
      " 0.10672511 0.11396368 0.10647464 0.09507827 0.12247965 0.11646838\n",
      " 0.10973075 0.09565435 0.08025047 0.07899812 0.08035066 0.08180338\n",
      " 0.07020664 0.10026299 0.10735128 0.10379461 0.10820288 0.10507201\n",
      " 0.10990607 0.11133375 0.10311835 0.10855354 0.11078272 0.10336882\n",
      " 0.09362555 0.08598622 0.10316844 0.10386976 0.10261741 0.09966187\n",
      " 0.0903444  0.08541014 0.08969317 0.08846587 0.09430182 0.09675642\n",
      " 0.0910958  0.07428929 0.06930495 0.0639449  0.06376957 0.07165936\n",
      " 0.06359424 0.0626675  0.05808391 0.04809017 0.05703193 0.05783344\n",
      " 0.04566061 0.04889167 0.04553538 0.05705698 0.05838447 0.05983719\n",
      " 0.06675016 0.06654978 0.06993112 0.07288666 0.07105823 0.07120852\n",
      " 0.07772073 0.08583594 0.08939261 0.08771446 0.09297433 0.09790858\n",
      " 0.0885801  0.09127429 0.09356444 0.09552057 0.09723818 0.09879645\n",
      " 0.10025097 0.10163793 0.10298071 0.10429487 0.10559127 0.10687823\n",
      " 0.10816196 0.1094472  0.1107373  0.1120343  0.11333912 0.11465149\n",
      " 0.11597045 0.11729423 0.11862078 0.11994772]\n",
      "22 day output [[0.12127262]]\n",
      "23 day input [0.08328115 0.0841077  0.08050094 0.07889793 0.09054477 0.07899812\n",
      " 0.08909205 0.09244834 0.09272386 0.09154665 0.10126487 0.10672511\n",
      " 0.11396368 0.10647464 0.09507827 0.12247965 0.11646838 0.10973075\n",
      " 0.09565435 0.08025047 0.07899812 0.08035066 0.08180338 0.07020664\n",
      " 0.10026299 0.10735128 0.10379461 0.10820288 0.10507201 0.10990607\n",
      " 0.11133375 0.10311835 0.10855354 0.11078272 0.10336882 0.09362555\n",
      " 0.08598622 0.10316844 0.10386976 0.10261741 0.09966187 0.0903444\n",
      " 0.08541014 0.08969317 0.08846587 0.09430182 0.09675642 0.0910958\n",
      " 0.07428929 0.06930495 0.0639449  0.06376957 0.07165936 0.06359424\n",
      " 0.0626675  0.05808391 0.04809017 0.05703193 0.05783344 0.04566061\n",
      " 0.04889167 0.04553538 0.05705698 0.05838447 0.05983719 0.06675016\n",
      " 0.06654978 0.06993112 0.07288666 0.07105823 0.07120852 0.07772073\n",
      " 0.08583594 0.08939261 0.08771446 0.09297433 0.09790858 0.0885801\n",
      " 0.09127429 0.09356444 0.09552057 0.09723818 0.09879645 0.10025097\n",
      " 0.10163793 0.10298071 0.10429487 0.10559127 0.10687823 0.10816196\n",
      " 0.1094472  0.1107373  0.1120343  0.11333912 0.11465149 0.11597045\n",
      " 0.11729423 0.11862078 0.11994772 0.12127262]\n",
      "23 day output [[0.1225931]]\n",
      "24 day input [0.0841077  0.08050094 0.07889793 0.09054477 0.07899812 0.08909205\n",
      " 0.09244834 0.09272386 0.09154665 0.10126487 0.10672511 0.11396368\n",
      " 0.10647464 0.09507827 0.12247965 0.11646838 0.10973075 0.09565435\n",
      " 0.08025047 0.07899812 0.08035066 0.08180338 0.07020664 0.10026299\n",
      " 0.10735128 0.10379461 0.10820288 0.10507201 0.10990607 0.11133375\n",
      " 0.10311835 0.10855354 0.11078272 0.10336882 0.09362555 0.08598622\n",
      " 0.10316844 0.10386976 0.10261741 0.09966187 0.0903444  0.08541014\n",
      " 0.08969317 0.08846587 0.09430182 0.09675642 0.0910958  0.07428929\n",
      " 0.06930495 0.0639449  0.06376957 0.07165936 0.06359424 0.0626675\n",
      " 0.05808391 0.04809017 0.05703193 0.05783344 0.04566061 0.04889167\n",
      " 0.04553538 0.05705698 0.05838447 0.05983719 0.06675016 0.06654978\n",
      " 0.06993112 0.07288666 0.07105823 0.07120852 0.07772073 0.08583594\n",
      " 0.08939261 0.08771446 0.09297433 0.09790858 0.0885801  0.09127429\n",
      " 0.09356444 0.09552057 0.09723818 0.09879645 0.10025097 0.10163793\n",
      " 0.10298071 0.10429487 0.10559127 0.10687823 0.10816196 0.1094472\n",
      " 0.1107373  0.1120343  0.11333912 0.11465149 0.11597045 0.11729423\n",
      " 0.11862078 0.11994772 0.12127262 0.1225931 ]\n",
      "24 day output [[0.12390696]]\n",
      "25 day input [0.08050094 0.07889793 0.09054477 0.07899812 0.08909205 0.09244834\n",
      " 0.09272386 0.09154665 0.10126487 0.10672511 0.11396368 0.10647464\n",
      " 0.09507827 0.12247965 0.11646838 0.10973075 0.09565435 0.08025047\n",
      " 0.07899812 0.08035066 0.08180338 0.07020664 0.10026299 0.10735128\n",
      " 0.10379461 0.10820288 0.10507201 0.10990607 0.11133375 0.10311835\n",
      " 0.10855354 0.11078272 0.10336882 0.09362555 0.08598622 0.10316844\n",
      " 0.10386976 0.10261741 0.09966187 0.0903444  0.08541014 0.08969317\n",
      " 0.08846587 0.09430182 0.09675642 0.0910958  0.07428929 0.06930495\n",
      " 0.0639449  0.06376957 0.07165936 0.06359424 0.0626675  0.05808391\n",
      " 0.04809017 0.05703193 0.05783344 0.04566061 0.04889167 0.04553538\n",
      " 0.05705698 0.05838447 0.05983719 0.06675016 0.06654978 0.06993112\n",
      " 0.07288666 0.07105823 0.07120852 0.07772073 0.08583594 0.08939261\n",
      " 0.08771446 0.09297433 0.09790858 0.0885801  0.09127429 0.09356444\n",
      " 0.09552057 0.09723818 0.09879645 0.10025097 0.10163793 0.10298071\n",
      " 0.10429487 0.10559127 0.10687823 0.10816196 0.1094472  0.1107373\n",
      " 0.1120343  0.11333912 0.11465149 0.11597045 0.11729423 0.11862078\n",
      " 0.11994772 0.12127262 0.1225931  0.12390696]\n",
      "25 day output [[0.12521225]]\n",
      "26 day input [0.07889793 0.09054477 0.07899812 0.08909205 0.09244834 0.09272386\n",
      " 0.09154665 0.10126487 0.10672511 0.11396368 0.10647464 0.09507827\n",
      " 0.12247965 0.11646838 0.10973075 0.09565435 0.08025047 0.07899812\n",
      " 0.08035066 0.08180338 0.07020664 0.10026299 0.10735128 0.10379461\n",
      " 0.10820288 0.10507201 0.10990607 0.11133375 0.10311835 0.10855354\n",
      " 0.11078272 0.10336882 0.09362555 0.08598622 0.10316844 0.10386976\n",
      " 0.10261741 0.09966187 0.0903444  0.08541014 0.08969317 0.08846587\n",
      " 0.09430182 0.09675642 0.0910958  0.07428929 0.06930495 0.0639449\n",
      " 0.06376957 0.07165936 0.06359424 0.0626675  0.05808391 0.04809017\n",
      " 0.05703193 0.05783344 0.04566061 0.04889167 0.04553538 0.05705698\n",
      " 0.05838447 0.05983719 0.06675016 0.06654978 0.06993112 0.07288666\n",
      " 0.07105823 0.07120852 0.07772073 0.08583594 0.08939261 0.08771446\n",
      " 0.09297433 0.09790858 0.0885801  0.09127429 0.09356444 0.09552057\n",
      " 0.09723818 0.09879645 0.10025097 0.10163793 0.10298071 0.10429487\n",
      " 0.10559127 0.10687823 0.10816196 0.1094472  0.1107373  0.1120343\n",
      " 0.11333912 0.11465149 0.11597045 0.11729423 0.11862078 0.11994772\n",
      " 0.12127262 0.1225931  0.12390696 0.12521225]\n",
      "26 day output [[0.1265074]]\n",
      "27 day input [0.09054477 0.07899812 0.08909205 0.09244834 0.09272386 0.09154665\n",
      " 0.10126487 0.10672511 0.11396368 0.10647464 0.09507827 0.12247965\n",
      " 0.11646838 0.10973075 0.09565435 0.08025047 0.07899812 0.08035066\n",
      " 0.08180338 0.07020664 0.10026299 0.10735128 0.10379461 0.10820288\n",
      " 0.10507201 0.10990607 0.11133375 0.10311835 0.10855354 0.11078272\n",
      " 0.10336882 0.09362555 0.08598622 0.10316844 0.10386976 0.10261741\n",
      " 0.09966187 0.0903444  0.08541014 0.08969317 0.08846587 0.09430182\n",
      " 0.09675642 0.0910958  0.07428929 0.06930495 0.0639449  0.06376957\n",
      " 0.07165936 0.06359424 0.0626675  0.05808391 0.04809017 0.05703193\n",
      " 0.05783344 0.04566061 0.04889167 0.04553538 0.05705698 0.05838447\n",
      " 0.05983719 0.06675016 0.06654978 0.06993112 0.07288666 0.07105823\n",
      " 0.07120852 0.07772073 0.08583594 0.08939261 0.08771446 0.09297433\n",
      " 0.09790858 0.0885801  0.09127429 0.09356444 0.09552057 0.09723818\n",
      " 0.09879645 0.10025097 0.10163793 0.10298071 0.10429487 0.10559127\n",
      " 0.10687823 0.10816196 0.1094472  0.1107373  0.1120343  0.11333912\n",
      " 0.11465149 0.11597045 0.11729423 0.11862078 0.11994772 0.12127262\n",
      " 0.1225931  0.12390696 0.12521225 0.1265074 ]\n",
      "27 day output [[0.12779114]]\n",
      "28 day input [0.07899812 0.08909205 0.09244834 0.09272386 0.09154665 0.10126487\n",
      " 0.10672511 0.11396368 0.10647464 0.09507827 0.12247965 0.11646838\n",
      " 0.10973075 0.09565435 0.08025047 0.07899812 0.08035066 0.08180338\n",
      " 0.07020664 0.10026299 0.10735128 0.10379461 0.10820288 0.10507201\n",
      " 0.10990607 0.11133375 0.10311835 0.10855354 0.11078272 0.10336882\n",
      " 0.09362555 0.08598622 0.10316844 0.10386976 0.10261741 0.09966187\n",
      " 0.0903444  0.08541014 0.08969317 0.08846587 0.09430182 0.09675642\n",
      " 0.0910958  0.07428929 0.06930495 0.0639449  0.06376957 0.07165936\n",
      " 0.06359424 0.0626675  0.05808391 0.04809017 0.05703193 0.05783344\n",
      " 0.04566061 0.04889167 0.04553538 0.05705698 0.05838447 0.05983719\n",
      " 0.06675016 0.06654978 0.06993112 0.07288666 0.07105823 0.07120852\n",
      " 0.07772073 0.08583594 0.08939261 0.08771446 0.09297433 0.09790858\n",
      " 0.0885801  0.09127429 0.09356444 0.09552057 0.09723818 0.09879645\n",
      " 0.10025097 0.10163793 0.10298071 0.10429487 0.10559127 0.10687823\n",
      " 0.10816196 0.1094472  0.1107373  0.1120343  0.11333912 0.11465149\n",
      " 0.11597045 0.11729423 0.11862078 0.11994772 0.12127262 0.1225931\n",
      " 0.12390696 0.12521225 0.1265074  0.12779114]\n"
     ]
    },
    {
     "name": "stdout",
     "output_type": "stream",
     "text": [
      "28 day output [[0.1290626]]\n",
      "29 day input [0.08909205 0.09244834 0.09272386 0.09154665 0.10126487 0.10672511\n",
      " 0.11396368 0.10647464 0.09507827 0.12247965 0.11646838 0.10973075\n",
      " 0.09565435 0.08025047 0.07899812 0.08035066 0.08180338 0.07020664\n",
      " 0.10026299 0.10735128 0.10379461 0.10820288 0.10507201 0.10990607\n",
      " 0.11133375 0.10311835 0.10855354 0.11078272 0.10336882 0.09362555\n",
      " 0.08598622 0.10316844 0.10386976 0.10261741 0.09966187 0.0903444\n",
      " 0.08541014 0.08969317 0.08846587 0.09430182 0.09675642 0.0910958\n",
      " 0.07428929 0.06930495 0.0639449  0.06376957 0.07165936 0.06359424\n",
      " 0.0626675  0.05808391 0.04809017 0.05703193 0.05783344 0.04566061\n",
      " 0.04889167 0.04553538 0.05705698 0.05838447 0.05983719 0.06675016\n",
      " 0.06654978 0.06993112 0.07288666 0.07105823 0.07120852 0.07772073\n",
      " 0.08583594 0.08939261 0.08771446 0.09297433 0.09790858 0.0885801\n",
      " 0.09127429 0.09356444 0.09552057 0.09723818 0.09879645 0.10025097\n",
      " 0.10163793 0.10298071 0.10429487 0.10559127 0.10687823 0.10816196\n",
      " 0.1094472  0.1107373  0.1120343  0.11333912 0.11465149 0.11597045\n",
      " 0.11729423 0.11862078 0.11994772 0.12127262 0.1225931  0.12390696\n",
      " 0.12521225 0.1265074  0.12779114 0.12906259]\n",
      "29 day output [[0.13032125]]\n",
      "[[0.08858010172843933], [0.09127429127693176], [0.09356444329023361], [0.09552057087421417], [0.09723818302154541], [0.09879644960165024], [0.1002509742975235], [0.10163792967796326], [0.10298071056604385], [0.10429486632347107], [0.10559127479791641], [0.10687822848558426], [0.10816195607185364], [0.10944720357656479], [0.11073730140924454], [0.11203429847955704], [0.11333911865949631], [0.11465148627758026], [0.11597044765949249], [0.11729422956705093], [0.11862077564001083], [0.11994772404432297], [0.12127261608839035], [0.12259309738874435], [0.12390695512294769], [0.12521225214004517], [0.12650740146636963], [0.1277911365032196], [0.12906259298324585], [0.13032124936580658]]\n"
     ]
    }
   ],
   "source": [
    "# demonstrate prediction for next 10 days\n",
    "from numpy import array\n",
    "\n",
    "lst_output=[]\n",
    "n_steps=100\n",
    "i=0\n",
    "while(i<30):\n",
    "    \n",
    "    if(len(temp_input)>100):\n",
    "        #print(temp_input)\n",
    "        x_input=np.array(temp_input[1:])\n",
    "        print(\"{} day input {}\".format(i,x_input))\n",
    "        x_input=x_input.reshape(1,-1)\n",
    "        x_input = x_input.reshape((1, n_steps, 1))\n",
    "        #print(x_input)\n",
    "        yhat = model.predict(x_input, verbose=0)\n",
    "        print(\"{} day output {}\".format(i,yhat))\n",
    "        temp_input.extend(yhat[0].tolist())\n",
    "        temp_input=temp_input[1:]\n",
    "        #print(temp_input)\n",
    "        lst_output.extend(yhat.tolist())\n",
    "        i=i+1\n",
    "    else:\n",
    "        x_input = x_input.reshape((1, n_steps,1))\n",
    "        yhat = model.predict(x_input, verbose=0)\n",
    "        print(yhat[0])\n",
    "        temp_input.extend(yhat[0].tolist())\n",
    "        print(len(temp_input))\n",
    "        lst_output.extend(yhat.tolist())\n",
    "        i=i+1\n",
    "    \n",
    "\n",
    "print(lst_output)"
   ]
  },
  {
   "cell_type": "code",
   "execution_count": 50,
   "id": "26f43434",
   "metadata": {},
   "outputs": [],
   "source": [
    "day_new=np.arange(1,101)\n",
    "day_pred=np.arange(101,131)\n"
   ]
  },
  {
   "cell_type": "code",
   "execution_count": 51,
   "id": "372114d8",
   "metadata": {},
   "outputs": [],
   "source": [
    "import matplotlib.pyplot as plt"
   ]
  },
  {
   "cell_type": "code",
   "execution_count": 52,
   "id": "1f814d02",
   "metadata": {},
   "outputs": [
    {
     "data": {
      "text/plain": [
       "1258"
      ]
     },
     "execution_count": 52,
     "metadata": {},
     "output_type": "execute_result"
    }
   ],
   "source": [
    "len(df1)"
   ]
  },
  {
   "cell_type": "code",
   "execution_count": 53,
   "id": "92bcb7d4",
   "metadata": {},
   "outputs": [
    {
     "data": {
      "text/plain": [
       "[<matplotlib.lines.Line2D at 0x20e729cb040>]"
      ]
     },
     "execution_count": 53,
     "metadata": {},
     "output_type": "execute_result"
    },
    {
     "data": {
      "image/png": "[encoded data removed]",
      "text/plain": [
       "<Figure size 640x480 with 1 Axes>"
      ]
     },
     "metadata": {},
     "output_type": "display_data"
    }
   ],
   "source": [
    "plt.plot(day_new,scaler.inverse_transform(df1[1158:]))\n",
    "plt.plot(day_pred,scaler.inverse_transform(lst_output))"
   ]
  },
  {
   "cell_type": "code",
   "execution_count": 54,
   "id": "7db2f987",
   "metadata": {},
   "outputs": [
    {
     "data": {
      "text/plain": [
       "[<matplotlib.lines.Line2D at 0x20e728eaf40>]"
      ]
     },
     "execution_count": 54,
     "metadata": {},
     "output_type": "execute_result"
    },
    {
     "data": {
      "image/png": "[encoded data removed]",
      "text/plain": [
       "<Figure size 640x480 with 1 Axes>"
      ]
     },
     "metadata": {},
     "output_type": "display_data"
    }
   ],
   "source": [
    "df3=df1.tolist()\n",
    "df3.extend(lst_output)\n",
    "plt.plot(df3[1200:])"
   ]
  },
  {
   "cell_type": "code",
   "execution_count": 55,
   "id": "56d830dc",
   "metadata": {},
   "outputs": [],
   "source": [
    "df3=scaler.inverse_transform(df3).tolist()"
   ]
  },
  {
   "cell_type": "code",
   "execution_count": 56,
   "id": "5258e9fb",
   "metadata": {},
   "outputs": [
    {
     "data": {
      "text/plain": [
       "[<matplotlib.lines.Line2D at 0x20e728cc040>]"
      ]
     },
     "execution_count": 56,
     "metadata": {},
     "output_type": "execute_result"
    },
    {
     "data": {
      "image/png": "[encoded data removed]",
      "text/plain": [
       "<Figure size 640x480 with 1 Axes>"
      ]
     },
     "metadata": {},
     "output_type": "display_data"
    }
   ],
   "source": [
    "plt.plot(df3)"
   ]
  },
  {
   "cell_type": "code",
   "execution_count": null,
   "id": "9a6025a2",
   "metadata": {},
   "outputs": [],
   "source": []
  }
 ],
 "metadata": {
  "kernelspec": {
   "display_name": "Python 3 (ipykernel)",
   "language": "python",
   "name": "python3"
  },
  "language_info": {
   "codemirror_mode": {
    "name": "ipython",
    "version": 3
   },
   "file_extension": ".py",
   "mimetype": "text/x-python",
   "name": "python",
   "nbconvert_exporter": "python",
   "pygments_lexer": "ipython3",
   "version": "3.9.13"
  }
 },
 "nbformat": 4,
 "nbformat_minor": 5
}
